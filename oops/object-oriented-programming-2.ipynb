{
 "cells": [
  {
   "cell_type": "markdown",
   "id": "aa2aa46e",
   "metadata": {},
   "source": [
    "this notebook is based on my understanding of chapter-15 of 'The Quick Python Book' by Naomi Ceder."
   ]
  },
  {
   "cell_type": "markdown",
   "id": "a8b8f8da",
   "metadata": {},
   "source": [
    "## inheritance\n",
    "\n",
    "* if more than one class use same fields or methods, we can abstract them out into a new class and inherit them whenever required."
   ]
  },
  {
   "cell_type": "code",
   "execution_count": 105,
   "id": "4ff905ee",
   "metadata": {},
   "outputs": [],
   "source": [
    "class Shape:\n",
    "    def __init__(self, x, y):\n",
    "        self.x = x\n",
    "        self.y = y\n",
    "    \n",
    "    def move(self, delta_x, delta_y):\n",
    "        self.x = self.x + delta_x\n",
    "        self.y = self.y + delta_y\n",
    "    \n",
    "class Square(Shape):\n",
    "    def __init__(self, side=1, x=0, y=0):\n",
    "        super().__init__(x, y) # one way of calling super class's __init__\n",
    "        self.side = side\n",
    "    \n",
    "class Circle(Shape):\n",
    "    def __init__(self, r=1, x=0, y=0):\n",
    "        # hardcoding the class name creates problem later and is less flexible\n",
    "        Shape.__init__(self, x, y) # other less-used way of calling super class's __init__\n",
    "        self.radius = r"
   ]
  },
  {
   "cell_type": "code",
   "execution_count": 106,
   "id": "2b67e9e4",
   "metadata": {},
   "outputs": [
    {
     "name": "stdout",
     "output_type": "stream",
     "text": [
      "0\n",
      "0\n"
     ]
    }
   ],
   "source": [
    "c = Circle(1)\n",
    "print(c.x)\n",
    "print(c.y)"
   ]
  },
  {
   "cell_type": "markdown",
   "id": "a1129007",
   "metadata": {},
   "source": [
    "**python methods are virtual**. unless overriden by child class, super class methods are used."
   ]
  },
  {
   "cell_type": "code",
   "execution_count": 107,
   "id": "cf9bff19",
   "metadata": {},
   "outputs": [
    {
     "name": "stdout",
     "output_type": "stream",
     "text": [
      "3\n",
      "4\n"
     ]
    }
   ],
   "source": [
    "c.move(3, 4) # 'move' method is in Shape which is inherited by Circle\n",
    "print(c.x)\n",
    "print(c.y)"
   ]
  },
  {
   "cell_type": "markdown",
   "id": "69d3f1fa",
   "metadata": {},
   "source": [
    "#### exercise"
   ]
  },
  {
   "cell_type": "code",
   "execution_count": 108,
   "id": "9c6bfd5a",
   "metadata": {},
   "outputs": [],
   "source": [
    "class Rectangle(Shape):\n",
    "    def __init__(self, l=1, w=2, x=0, y=0):\n",
    "        super().__init__(x, y)\n",
    "        self.l = l\n",
    "        self.w = w\n",
    "    \n",
    "    def area(self):\n",
    "        return self.l * self.w"
   ]
  },
  {
   "cell_type": "code",
   "execution_count": 109,
   "id": "e8f20b98",
   "metadata": {},
   "outputs": [
    {
     "name": "stdout",
     "output_type": "stream",
     "text": [
      "0 0\n",
      "2 3\n"
     ]
    }
   ],
   "source": [
    "r = Rectangle(2, 3)\n",
    "print(r.x, r.y)\n",
    "print(r.l, r.w)"
   ]
  },
  {
   "cell_type": "code",
   "execution_count": 110,
   "id": "0217299b",
   "metadata": {},
   "outputs": [
    {
     "name": "stdout",
     "output_type": "stream",
     "text": [
      "3 4\n"
     ]
    }
   ],
   "source": [
    "r.move(3, 4)\n",
    "print(r.x, r.y)"
   ]
  },
  {
   "cell_type": "code",
   "execution_count": 111,
   "id": "e20ab243",
   "metadata": {},
   "outputs": [
    {
     "data": {
      "text/plain": [
       "6"
      ]
     },
     "execution_count": 111,
     "metadata": {},
     "output_type": "execute_result"
    }
   ],
   "source": [
    "r.area()"
   ]
  },
  {
   "cell_type": "markdown",
   "id": "92c7acda",
   "metadata": {},
   "source": [
    "create a `Square` class which inherits `Rectangle`"
   ]
  },
  {
   "cell_type": "code",
   "execution_count": 112,
   "id": "fe40739d",
   "metadata": {},
   "outputs": [],
   "source": [
    "class Square(Rectangle):\n",
    "    def __init__(self, l=1, x=0, y=0):\n",
    "        super().__init__(l, l, x, y)\n",
    "        self.l = l"
   ]
  },
  {
   "cell_type": "code",
   "execution_count": 113,
   "id": "521cdea2",
   "metadata": {},
   "outputs": [
    {
     "name": "stdout",
     "output_type": "stream",
     "text": [
      "5\n"
     ]
    }
   ],
   "source": [
    "s = Square(5)\n",
    "print(s.l)"
   ]
  },
  {
   "cell_type": "code",
   "execution_count": 114,
   "id": "55b51f9c",
   "metadata": {},
   "outputs": [
    {
     "name": "stdout",
     "output_type": "stream",
     "text": [
      "25\n"
     ]
    }
   ],
   "source": [
    "print(s.area())"
   ]
  },
  {
   "cell_type": "markdown",
   "id": "cb574319",
   "metadata": {},
   "source": [
    "***is super().__init__() always necessary?***"
   ]
  },
  {
   "cell_type": "code",
   "execution_count": 115,
   "id": "74593ace",
   "metadata": {},
   "outputs": [
    {
     "ename": "TypeError",
     "evalue": "__init__() missing 2 required positional arguments: 'x' and 'y'",
     "output_type": "error",
     "traceback": [
      "\u001b[1;31m---------------------------------------------------------------------------\u001b[0m",
      "\u001b[1;31mTypeError\u001b[0m                                 Traceback (most recent call last)",
      "Input \u001b[1;32mIn [115]\u001b[0m, in \u001b[0;36m<cell line: 4>\u001b[1;34m()\u001b[0m\n\u001b[0;32m      1\u001b[0m \u001b[38;5;28;01mclass\u001b[39;00m \u001b[38;5;21;01mDummy\u001b[39;00m(Shape):\n\u001b[0;32m      2\u001b[0m     \u001b[38;5;28;01mpass\u001b[39;00m\n\u001b[1;32m----> 4\u001b[0m c \u001b[38;5;241m=\u001b[39m \u001b[43mDummy\u001b[49m\u001b[43m(\u001b[49m\u001b[43m)\u001b[49m\n",
      "\u001b[1;31mTypeError\u001b[0m: __init__() missing 2 required positional arguments: 'x' and 'y'"
     ]
    }
   ],
   "source": [
    "class Dummy(Shape):\n",
    "    pass\n",
    "\n",
    "c = Dummy()"
   ]
  },
  {
   "cell_type": "code",
   "execution_count": 116,
   "id": "11b99bce",
   "metadata": {},
   "outputs": [],
   "source": [
    "class Dummy(Shape):\n",
    "    def __init__(self):\n",
    "        pass\n",
    "\n",
    "c = Dummy()"
   ]
  },
  {
   "cell_type": "code",
   "execution_count": 117,
   "id": "80c83352",
   "metadata": {},
   "outputs": [
    {
     "ename": "AttributeError",
     "evalue": "'Dummy' object has no attribute 'x'",
     "output_type": "error",
     "traceback": [
      "\u001b[1;31m---------------------------------------------------------------------------\u001b[0m",
      "\u001b[1;31mAttributeError\u001b[0m                            Traceback (most recent call last)",
      "Input \u001b[1;32mIn [117]\u001b[0m, in \u001b[0;36m<cell line: 1>\u001b[1;34m()\u001b[0m\n\u001b[1;32m----> 1\u001b[0m \u001b[43mc\u001b[49m\u001b[38;5;241;43m.\u001b[39;49m\u001b[43mx\u001b[49m, c\u001b[38;5;241m.\u001b[39my\n",
      "\u001b[1;31mAttributeError\u001b[0m: 'Dummy' object has no attribute 'x'"
     ]
    }
   ],
   "source": [
    "c.x, c.y"
   ]
  },
  {
   "cell_type": "markdown",
   "id": "c105ffc6",
   "metadata": {},
   "source": [
    "so it is not necessary to call `super().__init__()` always."
   ]
  },
  {
   "cell_type": "markdown",
   "id": "51a344e7",
   "metadata": {},
   "source": [
    "### inheritance with class and instance variables\n",
    "* inheritance allows an instance to inherit attributes of the class.\n",
    "* only one instance variable of a given name exists for a given instance."
   ]
  },
  {
   "cell_type": "code",
   "execution_count": 118,
   "id": "4141cb47",
   "metadata": {},
   "outputs": [],
   "source": [
    "class P:\n",
    "    z = \"Hello\" # class variable\n",
    "    \n",
    "    def set_p(self):\n",
    "        self.x = \"Class P\" # instance variable\n",
    "    \n",
    "    def print_p(self):\n",
    "        print(self.x)\n",
    "\n",
    "class C(P):\n",
    "    def set_c(self):\n",
    "        self.x = \"Class C\"\n",
    "    \n",
    "    def print_c(self):\n",
    "        print(self.x)"
   ]
  },
  {
   "cell_type": "code",
   "execution_count": 119,
   "id": "68568c63",
   "metadata": {},
   "outputs": [
    {
     "name": "stdout",
     "output_type": "stream",
     "text": [
      "Class P\n",
      "Class P\n"
     ]
    }
   ],
   "source": [
    "c = C()\n",
    "c.set_p() # instance variable x is defined for super class\n",
    "c.print_p()\n",
    "c.print_c() # x is not yet created for class C since set_c is not called"
   ]
  },
  {
   "cell_type": "code",
   "execution_count": 120,
   "id": "300fd80a",
   "metadata": {},
   "outputs": [
    {
     "name": "stdout",
     "output_type": "stream",
     "text": [
      "Class C\n",
      "Class C\n"
     ]
    }
   ],
   "source": [
    "c.set_c()\n",
    "c.print_p()\n",
    "c.print_c()"
   ]
  },
  {
   "cell_type": "markdown",
   "id": "945d5476",
   "metadata": {},
   "source": [
    "#### class variables are inherited"
   ]
  },
  {
   "cell_type": "code",
   "execution_count": 121,
   "id": "999fe22a",
   "metadata": {},
   "outputs": [
    {
     "data": {
      "text/plain": [
       "('Hello', 'Hello', 'Hello')"
      ]
     },
     "execution_count": 121,
     "metadata": {},
     "output_type": "execute_result"
    }
   ],
   "source": [
    "c.z, C.z, P.z"
   ]
  },
  {
   "cell_type": "code",
   "execution_count": 122,
   "id": "6ad3c089",
   "metadata": {},
   "outputs": [
    {
     "data": {
      "text/plain": [
       "('Bonjour', 'Bonjour', 'Hello')"
      ]
     },
     "execution_count": 122,
     "metadata": {},
     "output_type": "execute_result"
    }
   ],
   "source": [
    "C.z = \"Bonjour\" # this assignment creates a class variable 'z' for C\n",
    "c.z, C.z, P.z"
   ]
  },
  {
   "cell_type": "code",
   "execution_count": 123,
   "id": "29f416cf",
   "metadata": {},
   "outputs": [
    {
     "data": {
      "text/plain": [
       "('Cia', 'Bonjour', 'Hello')"
      ]
     },
     "execution_count": 123,
     "metadata": {},
     "output_type": "execute_result"
    }
   ],
   "source": [
    "c.z = \"Cia\" # this assignment creates an instance variable 'z' for instance of C\n",
    "c.z, C.z, P.z"
   ]
  },
  {
   "cell_type": "markdown",
   "id": "c7311770",
   "metadata": {},
   "source": [
    "### all together"
   ]
  },
  {
   "cell_type": "code",
   "execution_count": 124,
   "id": "d2d07572",
   "metadata": {},
   "outputs": [],
   "source": [
    "class Circle(Shape):\n",
    "    pi = 3.14159\n",
    "    all_circles = []\n",
    "    \n",
    "    def __init__(self, r=1, x=0, y=0):\n",
    "        super().__init__(x, y)\n",
    "        self.radius = r\n",
    "        Circle.all_circles.append(self)\n",
    "    \n",
    "    @classmethod\n",
    "    def total_area(cls): # cls is reference to the class\n",
    "        area = 0\n",
    "        for circle in cls.all_circles:\n",
    "            area += cls.circle_area(circle.radius)\n",
    "        return area\n",
    "    \n",
    "    @staticmethod\n",
    "    def circle_area(radius):\n",
    "        return Circle.pi * radius * radius"
   ]
  },
  {
   "cell_type": "code",
   "execution_count": 125,
   "id": "9956b5a6",
   "metadata": {},
   "outputs": [
    {
     "data": {
      "text/plain": [
       "(1, 0, 0)"
      ]
     },
     "execution_count": 125,
     "metadata": {},
     "output_type": "execute_result"
    }
   ],
   "source": [
    "c1 = Circle()\n",
    "c1.radius, c1.x, c1.y"
   ]
  },
  {
   "cell_type": "code",
   "execution_count": 126,
   "id": "b7a8b95d",
   "metadata": {},
   "outputs": [
    {
     "data": {
      "text/plain": [
       "(2, 1, 1)"
      ]
     },
     "execution_count": 126,
     "metadata": {},
     "output_type": "execute_result"
    }
   ],
   "source": [
    "c2 = Circle(2, 1, 1)\n",
    "c2.radius, c2.x, c2.y"
   ]
  },
  {
   "cell_type": "code",
   "execution_count": 127,
   "id": "61a73bf5",
   "metadata": {},
   "outputs": [
    {
     "data": {
      "text/plain": [
       "[<__main__.Circle at 0x23ca15a3550>, <__main__.Circle at 0x23ca25ad2e0>]"
      ]
     },
     "execution_count": 127,
     "metadata": {},
     "output_type": "execute_result"
    }
   ],
   "source": [
    "Circle.all_circles"
   ]
  },
  {
   "cell_type": "code",
   "execution_count": 128,
   "id": "6523e0d8",
   "metadata": {},
   "outputs": [
    {
     "data": {
      "text/plain": [
       "[<__main__.Circle at 0x23ca15a3550>, <__main__.Circle at 0x23ca25ad2e0>]"
      ]
     },
     "execution_count": 128,
     "metadata": {},
     "output_type": "execute_result"
    }
   ],
   "source": [
    "[c1, c2]"
   ]
  },
  {
   "cell_type": "markdown",
   "id": "9e7355e0",
   "metadata": {},
   "source": [
    "#### access class method through class or instance"
   ]
  },
  {
   "cell_type": "code",
   "execution_count": 129,
   "id": "c7f797d5",
   "metadata": {},
   "outputs": [
    {
     "data": {
      "text/plain": [
       "15.70795"
      ]
     },
     "execution_count": 129,
     "metadata": {},
     "output_type": "execute_result"
    }
   ],
   "source": [
    "Circle.total_area()"
   ]
  },
  {
   "cell_type": "code",
   "execution_count": 130,
   "id": "9cf66d61",
   "metadata": {},
   "outputs": [
    {
     "data": {
      "text/plain": [
       "15.70795"
      ]
     },
     "execution_count": 130,
     "metadata": {},
     "output_type": "execute_result"
    }
   ],
   "source": [
    "c2.total_area()"
   ]
  },
  {
   "cell_type": "markdown",
   "id": "a6c713ec",
   "metadata": {},
   "source": [
    "#### access static method through class or instance"
   ]
  },
  {
   "cell_type": "code",
   "execution_count": 131,
   "id": "9a306b52",
   "metadata": {},
   "outputs": [
    {
     "data": {
      "text/plain": [
       "3.14159"
      ]
     },
     "execution_count": 131,
     "metadata": {},
     "output_type": "execute_result"
    }
   ],
   "source": [
    "Circle.circle_area(c1.radius)"
   ]
  },
  {
   "cell_type": "code",
   "execution_count": 132,
   "id": "ceea5aef",
   "metadata": {},
   "outputs": [
    {
     "data": {
      "text/plain": [
       "3.14159"
      ]
     },
     "execution_count": 132,
     "metadata": {},
     "output_type": "execute_result"
    }
   ],
   "source": [
    "c1.circle_area(c1.radius)"
   ]
  },
  {
   "cell_type": "markdown",
   "id": "4731fe5b",
   "metadata": {},
   "source": [
    "### private variables and private methods\n",
    "* *private variable or private method* is one that cannot be seen outside the methods of the class in which it is defined.\n",
    "* helps us to deny access to important or delicate part of an object's implementation.\n",
    "* prevents name clashes that occur due to inheritance.\n",
    "\n",
    "$Syntax$: any variable or method that ***starts with*** `__` (double underscore or *dunders*)"
   ]
  },
  {
   "cell_type": "code",
   "execution_count": 133,
   "id": "001d29c1",
   "metadata": {},
   "outputs": [],
   "source": [
    "class Mine:\n",
    "    def __init__(self):\n",
    "        self.x = 2\n",
    "        self.__y = 3 # private variable\n",
    "    \n",
    "    def print_y(self):\n",
    "        print(self.__y) # accessed anywhere inside class"
   ]
  },
  {
   "cell_type": "code",
   "execution_count": 134,
   "id": "286f2278",
   "metadata": {},
   "outputs": [
    {
     "name": "stdout",
     "output_type": "stream",
     "text": [
      "2\n"
     ]
    }
   ],
   "source": [
    "m = Mine()\n",
    "print(m.x)"
   ]
  },
  {
   "cell_type": "code",
   "execution_count": 135,
   "id": "6e76ab13",
   "metadata": {},
   "outputs": [
    {
     "ename": "AttributeError",
     "evalue": "'Mine' object has no attribute '__y'",
     "output_type": "error",
     "traceback": [
      "\u001b[1;31m---------------------------------------------------------------------------\u001b[0m",
      "\u001b[1;31mAttributeError\u001b[0m                            Traceback (most recent call last)",
      "Input \u001b[1;32mIn [135]\u001b[0m, in \u001b[0;36m<cell line: 1>\u001b[1;34m()\u001b[0m\n\u001b[1;32m----> 1\u001b[0m \u001b[38;5;28mprint\u001b[39m(\u001b[43mm\u001b[49m\u001b[38;5;241;43m.\u001b[39;49m\u001b[43m__y\u001b[49m)\n",
      "\u001b[1;31mAttributeError\u001b[0m: 'Mine' object has no attribute '__y'"
     ]
    }
   ],
   "source": [
    "print(m.__y)"
   ]
  },
  {
   "cell_type": "code",
   "execution_count": 136,
   "id": "084f07bf",
   "metadata": {},
   "outputs": [
    {
     "name": "stdout",
     "output_type": "stream",
     "text": [
      "3\n"
     ]
    }
   ],
   "source": [
    "m.print_y()"
   ]
  },
  {
   "cell_type": "markdown",
   "id": "689a44c9",
   "metadata": {},
   "source": [
    "#### how python achieves private variables and methods (name mangling)?\n",
    "* `_classname__variable` is how private variables are internally represented.\n",
    "* so accessing `__variable` becomes invalid and throws `AttributeError`."
   ]
  },
  {
   "cell_type": "code",
   "execution_count": 138,
   "id": "e63dd77a",
   "metadata": {},
   "outputs": [
    {
     "name": "stdout",
     "output_type": "stream",
     "text": [
      "['_Mine__y', '__class__', '__delattr__', '__dict__', '__dir__', '__doc__', '__eq__', '__format__', '__ge__', '__getattribute__', '__gt__', '__hash__', '__init__', '__init_subclass__', '__le__', '__lt__', '__module__', '__ne__', '__new__', '__reduce__', '__reduce_ex__', '__repr__', '__setattr__', '__sizeof__', '__str__', '__subclasshook__', '__weakref__', 'print_y', 'x']\n"
     ]
    }
   ],
   "source": [
    "print(dir(m)) # the first one is '_Mine__y'"
   ]
  },
  {
   "cell_type": "markdown",
   "id": "1902e139",
   "metadata": {},
   "source": [
    "#### hack private variables"
   ]
  },
  {
   "cell_type": "code",
   "execution_count": 139,
   "id": "c680c32c",
   "metadata": {},
   "outputs": [
    {
     "data": {
      "text/plain": [
       "3"
      ]
     },
     "execution_count": 139,
     "metadata": {},
     "output_type": "execute_result"
    }
   ],
   "source": [
    "m._Mine__y"
   ]
  },
  {
   "cell_type": "code",
   "execution_count": 140,
   "id": "b85078c2",
   "metadata": {},
   "outputs": [
    {
     "name": "stdout",
     "output_type": "stream",
     "text": [
      "25\n"
     ]
    }
   ],
   "source": [
    "m._Mine__y = 25\n",
    "m.print_y()"
   ]
  },
  {
   "cell_type": "markdown",
   "id": "3bff8306",
   "metadata": {},
   "source": [
    "### @property (flexible instance variables)\n",
    "* getters, setters"
   ]
  },
  {
   "cell_type": "code",
   "execution_count": 141,
   "id": "712ede6f",
   "metadata": {},
   "outputs": [],
   "source": [
    "class Temperature:\n",
    "    def __init__(self):\n",
    "        self._temp_fahr = 0 # internally stores the temperate in fahrenheit.\n",
    "    \n",
    "    @property # getter\n",
    "    def celcius(self):\n",
    "        return (self._temp_fahr - 32) * 5 / 9\n",
    "    \n",
    "    @celcius.setter # setter\n",
    "    def celcius(self, cel):\n",
    "        self._temp_fahr = cel * 9 / 5 + 32"
   ]
  },
  {
   "cell_type": "code",
   "execution_count": 142,
   "id": "2295461c",
   "metadata": {},
   "outputs": [
    {
     "data": {
      "text/plain": [
       "0"
      ]
     },
     "execution_count": 142,
     "metadata": {},
     "output_type": "execute_result"
    }
   ],
   "source": [
    "t = Temperature()\n",
    "t._temp_fahr"
   ]
  },
  {
   "cell_type": "code",
   "execution_count": 143,
   "id": "1010d048",
   "metadata": {},
   "outputs": [
    {
     "data": {
      "text/plain": [
       "-17.77777777777778"
      ]
     },
     "execution_count": 143,
     "metadata": {},
     "output_type": "execute_result"
    }
   ],
   "source": [
    "t.celcius"
   ]
  },
  {
   "cell_type": "code",
   "execution_count": 144,
   "id": "243e4f2f",
   "metadata": {},
   "outputs": [
    {
     "data": {
      "text/plain": [
       "93.2"
      ]
     },
     "execution_count": 144,
     "metadata": {},
     "output_type": "execute_result"
    }
   ],
   "source": [
    "t.celcius = 34\n",
    "t._temp_fahr"
   ]
  },
  {
   "cell_type": "code",
   "execution_count": 145,
   "id": "ca0a166b",
   "metadata": {},
   "outputs": [
    {
     "data": {
      "text/plain": [
       "34.0"
      ]
     },
     "execution_count": 145,
     "metadata": {},
     "output_type": "execute_result"
    }
   ],
   "source": [
    "t.celcius"
   ]
  },
  {
   "cell_type": "markdown",
   "id": "fb73c0b5",
   "metadata": {},
   "source": [
    "#### exercise"
   ]
  },
  {
   "cell_type": "code",
   "execution_count": 146,
   "id": "f3472b07",
   "metadata": {},
   "outputs": [],
   "source": [
    "class Rectangle:\n",
    "    def __init__(self):\n",
    "        self.__dimension = 0\n",
    "    \n",
    "    @property\n",
    "    def dimension(self):\n",
    "        return self.__dimension\n",
    "    \n",
    "    @dimension.setter\n",
    "    def dimension(self, value):\n",
    "        if value < 0:\n",
    "            raise ValueError('Dimension of Rectangle can\\'t be negative.')\n",
    "        self.__dimension = value"
   ]
  },
  {
   "cell_type": "code",
   "execution_count": 147,
   "id": "569cad45",
   "metadata": {},
   "outputs": [
    {
     "data": {
      "text/plain": [
       "0"
      ]
     },
     "execution_count": 147,
     "metadata": {},
     "output_type": "execute_result"
    }
   ],
   "source": [
    "r = Rectangle()\n",
    "r.dimension"
   ]
  },
  {
   "cell_type": "code",
   "execution_count": 148,
   "id": "eb04db72",
   "metadata": {},
   "outputs": [
    {
     "data": {
      "text/plain": [
       "4"
      ]
     },
     "execution_count": 148,
     "metadata": {},
     "output_type": "execute_result"
    }
   ],
   "source": [
    "r.dimension = 4\n",
    "r.dimension"
   ]
  },
  {
   "cell_type": "code",
   "execution_count": 149,
   "id": "48085568",
   "metadata": {},
   "outputs": [
    {
     "ename": "ValueError",
     "evalue": "Dimension of Rectangle can't be negative.",
     "output_type": "error",
     "traceback": [
      "\u001b[1;31m---------------------------------------------------------------------------\u001b[0m",
      "\u001b[1;31mValueError\u001b[0m                                Traceback (most recent call last)",
      "Input \u001b[1;32mIn [149]\u001b[0m, in \u001b[0;36m<cell line: 1>\u001b[1;34m()\u001b[0m\n\u001b[1;32m----> 1\u001b[0m r\u001b[38;5;241m.\u001b[39mdimension \u001b[38;5;241m=\u001b[39m \u001b[38;5;241m-\u001b[39m\u001b[38;5;241m3\u001b[39m\n",
      "Input \u001b[1;32mIn [146]\u001b[0m, in \u001b[0;36mRectangle.dimension\u001b[1;34m(self, value)\u001b[0m\n\u001b[0;32m      9\u001b[0m \u001b[38;5;129m@dimension\u001b[39m\u001b[38;5;241m.\u001b[39msetter\n\u001b[0;32m     10\u001b[0m \u001b[38;5;28;01mdef\u001b[39;00m \u001b[38;5;21mdimension\u001b[39m(\u001b[38;5;28mself\u001b[39m, value):\n\u001b[0;32m     11\u001b[0m     \u001b[38;5;28;01mif\u001b[39;00m value \u001b[38;5;241m<\u001b[39m \u001b[38;5;241m0\u001b[39m:\n\u001b[1;32m---> 12\u001b[0m         \u001b[38;5;28;01mraise\u001b[39;00m \u001b[38;5;167;01mValueError\u001b[39;00m(\u001b[38;5;124m'\u001b[39m\u001b[38;5;124mDimension of Rectangle can\u001b[39m\u001b[38;5;130;01m\\'\u001b[39;00m\u001b[38;5;124mt be negative.\u001b[39m\u001b[38;5;124m'\u001b[39m)\n\u001b[0;32m     13\u001b[0m     \u001b[38;5;28mself\u001b[39m\u001b[38;5;241m.\u001b[39m__dimension \u001b[38;5;241m=\u001b[39m value\n",
      "\u001b[1;31mValueError\u001b[0m: Dimension of Rectangle can't be negative."
     ]
    }
   ],
   "source": [
    "r.dimension = -3"
   ]
  },
  {
   "cell_type": "markdown",
   "id": "3658c360",
   "metadata": {},
   "source": [
    "### destructors and memory management\n",
    "* unlike C++, creating and calling a destructor is not necessary to ensure that the memory used by instance is freed.\n",
    "* Python provides automatic memory management through a reference-counting mechanism.\n",
    "* if number of references to an instance becomes 0, the memory is reclaimed.\n",
    "* *we never need to define a destructor*.\n",
    "\n",
    "* if we need to deallocate external resource explicitly, best practice is to use context manager."
   ]
  },
  {
   "cell_type": "markdown",
   "id": "4ee65555",
   "metadata": {},
   "source": [
    "***Next: Multiple Inheritance, Namespaces***"
   ]
  },
  {
   "cell_type": "code",
   "execution_count": null,
   "id": "a2fef1ee",
   "metadata": {},
   "outputs": [],
   "source": []
  }
 ],
 "metadata": {
  "kernelspec": {
   "display_name": "Python 3 (ipykernel)",
   "language": "python",
   "name": "python3"
  },
  "language_info": {
   "codemirror_mode": {
    "name": "ipython",
    "version": 3
   },
   "file_extension": ".py",
   "mimetype": "text/x-python",
   "name": "python",
   "nbconvert_exporter": "python",
   "pygments_lexer": "ipython3",
   "version": "3.9.12"
  }
 },
 "nbformat": 4,
 "nbformat_minor": 5
}
