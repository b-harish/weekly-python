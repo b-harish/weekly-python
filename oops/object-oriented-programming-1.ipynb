{
 "cells": [
  {
   "cell_type": "markdown",
   "id": "e1084e66",
   "metadata": {},
   "source": [
    "this notebook is based on my understanding of chapter-15 of 'The Quick Python Book' by Naomi Ceder."
   ]
  },
  {
   "cell_type": "markdown",
   "id": "8878e3d7",
   "metadata": {},
   "source": [
    "## defining class\n",
    "* classes can be used to hold both data and code.\n",
    "* ***a class is effectively a data type***.\n",
    "* **CapCase** convention for class names."
   ]
  },
  {
   "cell_type": "code",
   "execution_count": 1,
   "id": "4e9c1258",
   "metadata": {},
   "outputs": [],
   "source": [
    "class Rectangle:\n",
    "    pass"
   ]
  },
  {
   "cell_type": "markdown",
   "id": "c3e93922",
   "metadata": {},
   "source": [
    "### creating instances"
   ]
  },
  {
   "cell_type": "code",
   "execution_count": 2,
   "id": "77a5b3d8",
   "metadata": {},
   "outputs": [],
   "source": [
    "r1 = Rectangle()\n",
    "r2 = Rectangle()"
   ]
  },
  {
   "cell_type": "markdown",
   "id": "25471453",
   "metadata": {},
   "source": [
    "### instance variables (to store data)\n",
    "\n",
    "There are two ways to create instance variables.\n",
    "1. on-the-fly (`instance.variable = 5`)\n",
    "2. inside `__init__`"
   ]
  },
  {
   "cell_type": "markdown",
   "id": "474fbc52",
   "metadata": {},
   "source": [
    "#### create instance variables on-the-fly (bound to one instance)"
   ]
  },
  {
   "cell_type": "code",
   "execution_count": 3,
   "id": "be84c1e0",
   "metadata": {},
   "outputs": [],
   "source": [
    "# create data fields on-the-fly to store data\n",
    "r1.length = 5\n",
    "r2.width = 4"
   ]
  },
  {
   "cell_type": "code",
   "execution_count": 4,
   "id": "21c9a78e",
   "metadata": {},
   "outputs": [
    {
     "name": "stdout",
     "output_type": "stream",
     "text": [
      "5\n"
     ]
    }
   ],
   "source": [
    "print(r1.length)"
   ]
  },
  {
   "cell_type": "code",
   "execution_count": 5,
   "id": "8ad5c724",
   "metadata": {},
   "outputs": [
    {
     "ename": "AttributeError",
     "evalue": "'Rectangle' object has no attribute 'width'",
     "output_type": "error",
     "traceback": [
      "\u001b[1;31m---------------------------------------------------------------------------\u001b[0m",
      "\u001b[1;31mAttributeError\u001b[0m                            Traceback (most recent call last)",
      "Input \u001b[1;32mIn [5]\u001b[0m, in \u001b[0;36m<cell line: 1>\u001b[1;34m()\u001b[0m\n\u001b[1;32m----> 1\u001b[0m \u001b[38;5;28mprint\u001b[39m(\u001b[43mr1\u001b[49m\u001b[38;5;241;43m.\u001b[39;49m\u001b[43mwidth\u001b[49m)\n",
      "\u001b[1;31mAttributeError\u001b[0m: 'Rectangle' object has no attribute 'width'"
     ]
    }
   ],
   "source": [
    "print(r1.width) # width is not an instance variable for 'r1' instance"
   ]
  },
  {
   "cell_type": "code",
   "execution_count": 6,
   "id": "d5b8f6fe",
   "metadata": {},
   "outputs": [
    {
     "name": "stdout",
     "output_type": "stream",
     "text": [
      "4\n"
     ]
    }
   ],
   "source": [
    "print(r2.width)"
   ]
  },
  {
   "cell_type": "markdown",
   "id": "39d82dd7",
   "metadata": {},
   "source": [
    "#### create instance variables right after object is constructed (initialization)"
   ]
  },
  {
   "cell_type": "code",
   "execution_count": 7,
   "id": "83bd9e79",
   "metadata": {},
   "outputs": [
    {
     "name": "stdout",
     "output_type": "stream",
     "text": [
      "12\n"
     ]
    }
   ],
   "source": [
    "class Rectangle:\n",
    "    # special method used for initializing instance variables.\n",
    "    # called AFTER object is constructed.\n",
    "    def __init__(self):\n",
    "        self.length = 3\n",
    "        self.width = 4\n",
    "        \n",
    "r = Rectangle()\n",
    "print(r.length * r.width)"
   ]
  },
  {
   "cell_type": "markdown",
   "id": "6e7deaaf",
   "metadata": {},
   "source": [
    "`self` refers to the instance created and is passed to the `__init__` method after instance is constructed.\n",
    "\n",
    "`self` is similar to the keyword `this` in other languages which refers to the instance created."
   ]
  },
  {
   "cell_type": "markdown",
   "id": "3f8ab978",
   "metadata": {},
   "source": [
    "### methods (to perform action)"
   ]
  },
  {
   "cell_type": "code",
   "execution_count": 8,
   "id": "5bd9a114",
   "metadata": {},
   "outputs": [],
   "source": [
    "class Rectangle:\n",
    "    def __init__(self):\n",
    "        self.length = 3\n",
    "        self.width = 4\n",
    "\n",
    "    def area(self): # first argument for any method is the instance\n",
    "        return self.length * self.width"
   ]
  },
  {
   "cell_type": "code",
   "execution_count": 9,
   "id": "a1229cfe",
   "metadata": {},
   "outputs": [],
   "source": [
    "r = Rectangle()"
   ]
  },
  {
   "cell_type": "markdown",
   "id": "05796c30",
   "metadata": {},
   "source": [
    "There are two ways for calling a method\n",
    "1. **bound method invocation** (`instance.method(args)`)\n",
    "2. **unbound method invocation** (`class.method(instance, args)`)"
   ]
  },
  {
   "cell_type": "code",
   "execution_count": 10,
   "id": "074d00de",
   "metadata": {},
   "outputs": [
    {
     "name": "stdout",
     "output_type": "stream",
     "text": [
      "12\n"
     ]
    }
   ],
   "source": [
    "print(r.area()) # most common and intuitive"
   ]
  },
  {
   "cell_type": "code",
   "execution_count": 11,
   "id": "c1ce1973",
   "metadata": {},
   "outputs": [
    {
     "name": "stdout",
     "output_type": "stream",
     "text": [
      "12\n"
     ]
    }
   ],
   "source": [
    "print(Rectangle.area(r))"
   ]
  },
  {
   "cell_type": "markdown",
   "id": "0dae5bde",
   "metadata": {},
   "source": [
    "### class variables\n",
    "* variable associated with a class, not an instance of a class.\n",
    "* accessible by all instances of the class.\n",
    "* `class.variable`"
   ]
  },
  {
   "cell_type": "code",
   "execution_count": 12,
   "id": "4da72767",
   "metadata": {},
   "outputs": [],
   "source": [
    "class Circle:\n",
    "    pi = 3.14159\n",
    "    \n",
    "    def __init__(self, radius=1):\n",
    "        self.radius = radius\n",
    "    \n",
    "    def area(self):\n",
    "        return self.radius * self.radius * Circle.pi"
   ]
  },
  {
   "cell_type": "code",
   "execution_count": 13,
   "id": "e3145f27",
   "metadata": {},
   "outputs": [
    {
     "data": {
      "text/plain": [
       "3.14159"
      ]
     },
     "execution_count": 13,
     "metadata": {},
     "output_type": "execute_result"
    }
   ],
   "source": [
    "# access class variable\n",
    "Circle.pi"
   ]
  },
  {
   "cell_type": "code",
   "execution_count": 14,
   "id": "720fc81f",
   "metadata": {},
   "outputs": [
    {
     "data": {
      "text/plain": [
       "3.1416"
      ]
     },
     "execution_count": 14,
     "metadata": {},
     "output_type": "execute_result"
    }
   ],
   "source": [
    "# update class variable\n",
    "Circle.pi = 3.14160\n",
    "Circle.pi"
   ]
  },
  {
   "cell_type": "markdown",
   "id": "641ddc70",
   "metadata": {},
   "source": [
    "**the instance belong to which class?**"
   ]
  },
  {
   "cell_type": "code",
   "execution_count": 15,
   "id": "712a764b",
   "metadata": {},
   "outputs": [],
   "source": [
    "c = Circle()"
   ]
  },
  {
   "cell_type": "code",
   "execution_count": 16,
   "id": "5edfe78d",
   "metadata": {},
   "outputs": [
    {
     "data": {
      "text/plain": [
       "__main__.Circle"
      ]
     },
     "execution_count": 16,
     "metadata": {},
     "output_type": "execute_result"
    }
   ],
   "source": [
    "Circle"
   ]
  },
  {
   "cell_type": "code",
   "execution_count": 17,
   "id": "3373e4c3",
   "metadata": {},
   "outputs": [
    {
     "data": {
      "text/plain": [
       "__main__.Circle"
      ]
     },
     "execution_count": 17,
     "metadata": {},
     "output_type": "execute_result"
    }
   ],
   "source": [
    "c.__class__"
   ]
  },
  {
   "cell_type": "markdown",
   "id": "493a0d2e",
   "metadata": {},
   "source": [
    "**access class variable without referring class name explicitly?**"
   ]
  },
  {
   "cell_type": "code",
   "execution_count": 18,
   "id": "9becc17c",
   "metadata": {},
   "outputs": [
    {
     "data": {
      "text/plain": [
       "3.1416"
      ]
     },
     "execution_count": 18,
     "metadata": {},
     "output_type": "execute_result"
    }
   ],
   "source": [
    "c.__class__.pi"
   ]
  },
  {
   "cell_type": "markdown",
   "id": "475cd09f",
   "metadata": {},
   "source": [
    "#### oddity in class variables\n",
    "\n",
    "instance variable lookup strategy:\n",
    "1. check if instance variable is found in the instance.\n",
    "2. if not found, return the class variable with same name if one exists."
   ]
  },
  {
   "cell_type": "code",
   "execution_count": 19,
   "id": "dde2842a",
   "metadata": {},
   "outputs": [
    {
     "data": {
      "text/plain": [
       "3.1416"
      ]
     },
     "execution_count": 19,
     "metadata": {},
     "output_type": "execute_result"
    }
   ],
   "source": [
    "c = Circle(3)\n",
    "c.pi"
   ]
  },
  {
   "cell_type": "code",
   "execution_count": 20,
   "id": "7bd68a3e",
   "metadata": {},
   "outputs": [],
   "source": [
    "c1 = Circle(1)\n",
    "c2 = Circle(2)"
   ]
  },
  {
   "cell_type": "markdown",
   "id": "17552f3b",
   "metadata": {},
   "source": [
    "**assignment to class variable via instance, creates a new instance variable on-the-fly**"
   ]
  },
  {
   "cell_type": "code",
   "execution_count": 21,
   "id": "4aceadd6",
   "metadata": {},
   "outputs": [
    {
     "data": {
      "text/plain": [
       "3.14"
      ]
     },
     "execution_count": 21,
     "metadata": {},
     "output_type": "execute_result"
    }
   ],
   "source": [
    "c1.pi = 3.14 # created an instance variable on-the-fly.\n",
    "c1.pi"
   ]
  },
  {
   "cell_type": "code",
   "execution_count": 22,
   "id": "d485713d",
   "metadata": {},
   "outputs": [
    {
     "data": {
      "text/plain": [
       "3.1416"
      ]
     },
     "execution_count": 22,
     "metadata": {},
     "output_type": "execute_result"
    }
   ],
   "source": [
    "c2.pi # shows class variable (found via instance) is unchanged."
   ]
  },
  {
   "cell_type": "code",
   "execution_count": 23,
   "id": "e70dc72b",
   "metadata": {},
   "outputs": [
    {
     "data": {
      "text/plain": [
       "3.1416"
      ]
     },
     "execution_count": 23,
     "metadata": {},
     "output_type": "execute_result"
    }
   ],
   "source": [
    "Circle.pi"
   ]
  },
  {
   "cell_type": "markdown",
   "id": "6a92d62d",
   "metadata": {},
   "source": [
    "## static methods and class methods"
   ]
  },
  {
   "cell_type": "markdown",
   "id": "4fbafe60",
   "metadata": {},
   "source": [
    "### static methods (`@staticmethod`)\n",
    "* invoke methods even though no instance of that class is created."
   ]
  },
  {
   "cell_type": "code",
   "execution_count": 47,
   "id": "333f0f93",
   "metadata": {},
   "outputs": [],
   "source": [
    "class Circle:\n",
    "    '''Circle class''' # doc-strings\n",
    "    all_circles = [] # class variable containing list of all circles that have been created\n",
    "    pi = 3.14159\n",
    "    \n",
    "    def __init__(self, r=1):\n",
    "        '''create a Circle with the given radius'''\n",
    "        self.radius = r\n",
    "        self.__class__.all_circles.append(self) # during initialization, add itself to all_circles list\n",
    "    \n",
    "    def area(self):\n",
    "        '''determine the area of the circle'''\n",
    "        return self.__class__.pi * self.radius * self.radius\n",
    "    \n",
    "    @staticmethod # decorator\n",
    "    def total_area():\n",
    "        '''static method to total the areas of all Circles'''\n",
    "        total = 0\n",
    "        for c in Circle.all_circles:\n",
    "            total = total + c.area()\n",
    "        return total"
   ]
  },
  {
   "cell_type": "code",
   "execution_count": 48,
   "id": "92131c80",
   "metadata": {},
   "outputs": [
    {
     "data": {
      "text/plain": [
       "15.70795"
      ]
     },
     "execution_count": 48,
     "metadata": {},
     "output_type": "execute_result"
    }
   ],
   "source": [
    "c1 = Circle(1)\n",
    "c2 = Circle(2)\n",
    "\n",
    "Circle.total_area()"
   ]
  },
  {
   "cell_type": "code",
   "execution_count": 49,
   "id": "aa94a5fd",
   "metadata": {},
   "outputs": [
    {
     "data": {
      "text/plain": [
       "31.415899999999997"
      ]
     },
     "execution_count": 49,
     "metadata": {},
     "output_type": "execute_result"
    }
   ],
   "source": [
    "c2.radius = 3\n",
    "Circle.total_area()"
   ]
  },
  {
   "cell_type": "code",
   "execution_count": 50,
   "id": "bd892e5c",
   "metadata": {},
   "outputs": [
    {
     "data": {
      "text/plain": [
       "31.415899999999997"
      ]
     },
     "execution_count": 50,
     "metadata": {},
     "output_type": "execute_result"
    }
   ],
   "source": [
    "c1.total_area() # total area can still be called on instance"
   ]
  },
  {
   "cell_type": "markdown",
   "id": "e67b8c3d",
   "metadata": {},
   "source": [
    "***doc strings for usage information of class and methods***"
   ]
  },
  {
   "cell_type": "code",
   "execution_count": 51,
   "id": "c9371e4b",
   "metadata": {},
   "outputs": [
    {
     "data": {
      "text/plain": [
       "'Circle class'"
      ]
     },
     "execution_count": 51,
     "metadata": {},
     "output_type": "execute_result"
    }
   ],
   "source": [
    "Circle.__doc__"
   ]
  },
  {
   "cell_type": "code",
   "execution_count": 52,
   "id": "85314684",
   "metadata": {},
   "outputs": [
    {
     "data": {
      "text/plain": [
       "'determine the area of the circle'"
      ]
     },
     "execution_count": 52,
     "metadata": {},
     "output_type": "execute_result"
    }
   ],
   "source": [
    "c1.area.__doc__"
   ]
  },
  {
   "cell_type": "markdown",
   "id": "8381f280",
   "metadata": {},
   "source": [
    "### class methods (`@classmethod`)"
   ]
  },
  {
   "cell_type": "code",
   "execution_count": 57,
   "id": "ab6ef918",
   "metadata": {},
   "outputs": [],
   "source": [
    "class Circle:\n",
    "    '''Circle class'''\n",
    "    all_circles = [] # class variable containing list of all circles that have been created\n",
    "    pi = 3.14159\n",
    "    \n",
    "    def __init__(self, r=1):\n",
    "        '''create a Circle with the given radius'''\n",
    "        self.radius = r\n",
    "        self.__class__.all_circles.append(self) # during initialization, add itself to all_circles list\n",
    "    \n",
    "    def area(self):\n",
    "        '''determine the area of the circle'''\n",
    "        return self.__class__.pi * self.radius * self.radius\n",
    "    \n",
    "    @classmethod # decorator\n",
    "    def total_area(cls): # class parameter 'cls' = self.__class__\n",
    "        '''static method to total the areas of all Circles'''\n",
    "        total = 0\n",
    "        for c in Circle.all_circles:\n",
    "            total = total + c.area()\n",
    "        return total"
   ]
  },
  {
   "cell_type": "code",
   "execution_count": 54,
   "id": "d96fa9be",
   "metadata": {},
   "outputs": [
    {
     "data": {
      "text/plain": [
       "15.70795"
      ]
     },
     "execution_count": 54,
     "metadata": {},
     "output_type": "execute_result"
    }
   ],
   "source": [
    "c1 = Circle(1)\n",
    "c2 = Circle(2)\n",
    "\n",
    "Circle.total_area()"
   ]
  },
  {
   "cell_type": "code",
   "execution_count": 55,
   "id": "bfe90a6b",
   "metadata": {},
   "outputs": [
    {
     "data": {
      "text/plain": [
       "31.415899999999997"
      ]
     },
     "execution_count": 55,
     "metadata": {},
     "output_type": "execute_result"
    }
   ],
   "source": [
    "c2.radius = 3\n",
    "Circle.total_area()"
   ]
  },
  {
   "cell_type": "code",
   "execution_count": 56,
   "id": "5cfafd36",
   "metadata": {},
   "outputs": [
    {
     "data": {
      "text/plain": [
       "31.415899999999997"
      ]
     },
     "execution_count": 56,
     "metadata": {},
     "output_type": "execute_result"
    }
   ],
   "source": [
    "c2.total_area()"
   ]
  },
  {
   "cell_type": "markdown",
   "id": "e8e82203",
   "metadata": {},
   "source": [
    "***Next: Find more examples between static and class methods in Python to understand clearly.***"
   ]
  },
  {
   "cell_type": "code",
   "execution_count": null,
   "id": "bf62e60c",
   "metadata": {},
   "outputs": [],
   "source": []
  }
 ],
 "metadata": {
  "kernelspec": {
   "display_name": "Python 3 (ipykernel)",
   "language": "python",
   "name": "python3"
  },
  "language_info": {
   "codemirror_mode": {
    "name": "ipython",
    "version": 3
   },
   "file_extension": ".py",
   "mimetype": "text/x-python",
   "name": "python",
   "nbconvert_exporter": "python",
   "pygments_lexer": "ipython3",
   "version": "3.9.12"
  }
 },
 "nbformat": 4,
 "nbformat_minor": 5
}
